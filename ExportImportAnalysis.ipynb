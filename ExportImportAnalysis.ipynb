{
 "cells": [
  {
   "cell_type": "code",
   "execution_count": 2,
   "metadata": {},
   "outputs": [
    {
     "data": {
      "text/html": [
       "<div>\n",
       "<style scoped>\n",
       "    .dataframe tbody tr th:only-of-type {\n",
       "        vertical-align: middle;\n",
       "    }\n",
       "\n",
       "    .dataframe tbody tr th {\n",
       "        vertical-align: top;\n",
       "    }\n",
       "\n",
       "    .dataframe thead th {\n",
       "        text-align: right;\n",
       "    }\n",
       "</style>\n",
       "<table border=\"1\" class=\"dataframe\">\n",
       "  <thead>\n",
       "    <tr style=\"text-align: right;\">\n",
       "      <th></th>\n",
       "      <th>Country Name</th>\n",
       "      <th>Country Code</th>\n",
       "      <th>Indicator Name</th>\n",
       "      <th>Indicator Code</th>\n",
       "      <th>1960</th>\n",
       "      <th>1961</th>\n",
       "      <th>1962</th>\n",
       "      <th>1963</th>\n",
       "      <th>1964</th>\n",
       "      <th>1965</th>\n",
       "      <th>...</th>\n",
       "      <th>2015</th>\n",
       "      <th>2016</th>\n",
       "      <th>2017</th>\n",
       "      <th>2018</th>\n",
       "      <th>2019</th>\n",
       "      <th>2020</th>\n",
       "      <th>2021</th>\n",
       "      <th>2022</th>\n",
       "      <th>2023</th>\n",
       "      <th>Unnamed: 68</th>\n",
       "    </tr>\n",
       "  </thead>\n",
       "  <tbody>\n",
       "    <tr>\n",
       "      <th>0</th>\n",
       "      <td>Aruba</td>\n",
       "      <td>ABW</td>\n",
       "      <td>High-technology exports (current US$)</td>\n",
       "      <td>TX.VAL.TECH.CD</td>\n",
       "      <td>NaN</td>\n",
       "      <td>NaN</td>\n",
       "      <td>NaN</td>\n",
       "      <td>NaN</td>\n",
       "      <td>NaN</td>\n",
       "      <td>NaN</td>\n",
       "      <td>...</td>\n",
       "      <td>1.265878e+06</td>\n",
       "      <td>1.255852e+06</td>\n",
       "      <td>2.004844e+06</td>\n",
       "      <td>2.562889e+06</td>\n",
       "      <td>1.655574e+06</td>\n",
       "      <td>1.788242e+06</td>\n",
       "      <td>1.171447e+06</td>\n",
       "      <td>1.735161e+06</td>\n",
       "      <td>NaN</td>\n",
       "      <td>NaN</td>\n",
       "    </tr>\n",
       "    <tr>\n",
       "      <th>1</th>\n",
       "      <td>Africa Eastern and Southern</td>\n",
       "      <td>AFE</td>\n",
       "      <td>High-technology exports (current US$)</td>\n",
       "      <td>TX.VAL.TECH.CD</td>\n",
       "      <td>NaN</td>\n",
       "      <td>NaN</td>\n",
       "      <td>NaN</td>\n",
       "      <td>NaN</td>\n",
       "      <td>NaN</td>\n",
       "      <td>NaN</td>\n",
       "      <td>...</td>\n",
       "      <td>3.235789e+09</td>\n",
       "      <td>2.960244e+09</td>\n",
       "      <td>2.593774e+09</td>\n",
       "      <td>2.615579e+09</td>\n",
       "      <td>2.216235e+09</td>\n",
       "      <td>2.135146e+09</td>\n",
       "      <td>2.652601e+09</td>\n",
       "      <td>2.753289e+09</td>\n",
       "      <td>NaN</td>\n",
       "      <td>NaN</td>\n",
       "    </tr>\n",
       "  </tbody>\n",
       "</table>\n",
       "<p>2 rows × 69 columns</p>\n",
       "</div>"
      ],
      "text/plain": [
       "                  Country Name Country Code  \\\n",
       "0                        Aruba          ABW   \n",
       "1  Africa Eastern and Southern          AFE   \n",
       "\n",
       "                          Indicator Name  Indicator Code  1960  1961  1962  \\\n",
       "0  High-technology exports (current US$)  TX.VAL.TECH.CD   NaN   NaN   NaN   \n",
       "1  High-technology exports (current US$)  TX.VAL.TECH.CD   NaN   NaN   NaN   \n",
       "\n",
       "   1963  1964  1965  ...          2015          2016          2017  \\\n",
       "0   NaN   NaN   NaN  ...  1.265878e+06  1.255852e+06  2.004844e+06   \n",
       "1   NaN   NaN   NaN  ...  3.235789e+09  2.960244e+09  2.593774e+09   \n",
       "\n",
       "           2018          2019          2020          2021          2022  2023  \\\n",
       "0  2.562889e+06  1.655574e+06  1.788242e+06  1.171447e+06  1.735161e+06   NaN   \n",
       "1  2.615579e+09  2.216235e+09  2.135146e+09  2.652601e+09  2.753289e+09   NaN   \n",
       "\n",
       "   Unnamed: 68  \n",
       "0          NaN  \n",
       "1          NaN  \n",
       "\n",
       "[2 rows x 69 columns]"
      ]
     },
     "metadata": {},
     "output_type": "display_data"
    }
   ],
   "source": [
    "import pandas as pd\n",
    "\n",
    "data = pd.read_csv(\"./hightechexportsDATA/hightechexports.csv\", skiprows=4)\n",
    "\n",
    "display(data.head(2))\n"
   ]
  },
  {
   "cell_type": "markdown",
   "metadata": {},
   "source": [
    "#### Dropping columns"
   ]
  },
  {
   "cell_type": "code",
   "execution_count": 3,
   "metadata": {},
   "outputs": [
    {
     "name": "stdout",
     "output_type": "stream",
     "text": [
      "data dimensions: (266, 69) \n",
      "\n"
     ]
    },
    {
     "data": {
      "text/plain": [
       "Country Name        0\n",
       "Country Code        0\n",
       "Indicator Name      0\n",
       "Indicator Code      0\n",
       "1960              266\n",
       "                 ... \n",
       "2020               76\n",
       "2021               77\n",
       "2022              110\n",
       "2023              266\n",
       "Unnamed: 68       266\n",
       "Length: 69, dtype: int64"
      ]
     },
     "metadata": {},
     "output_type": "display_data"
    },
    {
     "name": "stdout",
     "output_type": "stream",
     "text": [
      "None \n",
      "\n",
      "Columns before dropping completely null columns:\n",
      "Index(['Country Name', 'Country Code', 'Indicator Name', 'Indicator Code',\n",
      "       '1960', '1961', '1962', '1963', '1964', '1965', '1966', '1967', '1968',\n",
      "       '1969', '1970', '1971', '1972', '1973', '1974', '1975', '1976', '1977',\n",
      "       '1978', '1979', '1980', '1981', '1982', '1983', '1984', '1985', '1986',\n",
      "       '1987', '1988', '1989', '1990', '1991', '1992', '1993', '1994', '1995',\n",
      "       '1996', '1997', '1998', '1999', '2000', '2001', '2002', '2003', '2004',\n",
      "       '2005', '2006', '2007', '2008', '2009', '2010', '2011', '2012', '2013',\n",
      "       '2014', '2015', '2016', '2017', '2018', '2019', '2020', '2021', '2022',\n",
      "       '2023', 'Unnamed: 68'],\n",
      "      dtype='object') \n",
      "\n",
      "Columns remaining after dropping completely null columns:\n",
      "Index(['Country Name', 'Country Code', 'Indicator Name', 'Indicator Code',\n",
      "       '2007', '2008', '2009', '2010', '2011', '2012', '2013', '2014', '2015',\n",
      "       '2016', '2017', '2018', '2019', '2020', '2021', '2022'],\n",
      "      dtype='object') \n",
      "\n"
     ]
    }
   ],
   "source": [
    "# Checking total row & total columns\n",
    "data_dim = (data.shape[0], data.shape[1])\n",
    "print(\"data dimensions:\", data_dim, \"\\n\")\n",
    "\n",
    "# Looking at missing values\n",
    "print(display(data.isna().sum()), \"\\n\")\n",
    "\n",
    "print(\"Columns before dropping completely null columns:\")\n",
    "print(data.columns, \"\\n\")\n",
    "\n",
    "# Drop columns with all NaN values\n",
    "data_cleaned = data.dropna(axis=1, how='all')\n",
    "\n",
    "print(\"Columns remaining after dropping completely null columns:\")\n",
    "print(data_cleaned.columns, \"\\n\")\n"
   ]
  },
  {
   "cell_type": "markdown",
   "metadata": {},
   "source": [
    "#### Transmuting DF from wide to long format"
   ]
  },
  {
   "cell_type": "code",
   "execution_count": 4,
   "metadata": {},
   "outputs": [
    {
     "data": {
      "text/html": [
       "<div>\n",
       "<style scoped>\n",
       "    .dataframe tbody tr th:only-of-type {\n",
       "        vertical-align: middle;\n",
       "    }\n",
       "\n",
       "    .dataframe tbody tr th {\n",
       "        vertical-align: top;\n",
       "    }\n",
       "\n",
       "    .dataframe thead th {\n",
       "        text-align: right;\n",
       "    }\n",
       "</style>\n",
       "<table border=\"1\" class=\"dataframe\">\n",
       "  <thead>\n",
       "    <tr style=\"text-align: right;\">\n",
       "      <th></th>\n",
       "      <th>Country Name</th>\n",
       "      <th>Country Code</th>\n",
       "      <th>Indicator Name</th>\n",
       "      <th>Indicator Code</th>\n",
       "      <th>Year</th>\n",
       "      <th>Value</th>\n",
       "    </tr>\n",
       "  </thead>\n",
       "  <tbody>\n",
       "    <tr>\n",
       "      <th>0</th>\n",
       "      <td>Aruba</td>\n",
       "      <td>ABW</td>\n",
       "      <td>High-technology exports (current US$)</td>\n",
       "      <td>TX.VAL.TECH.CD</td>\n",
       "      <td>2007-01-01</td>\n",
       "      <td>NaN</td>\n",
       "    </tr>\n",
       "    <tr>\n",
       "      <th>1</th>\n",
       "      <td>Africa Eastern and Southern</td>\n",
       "      <td>AFE</td>\n",
       "      <td>High-technology exports (current US$)</td>\n",
       "      <td>TX.VAL.TECH.CD</td>\n",
       "      <td>2007-01-01</td>\n",
       "      <td>NaN</td>\n",
       "    </tr>\n",
       "    <tr>\n",
       "      <th>2</th>\n",
       "      <td>Afghanistan</td>\n",
       "      <td>AFG</td>\n",
       "      <td>High-technology exports (current US$)</td>\n",
       "      <td>TX.VAL.TECH.CD</td>\n",
       "      <td>2007-01-01</td>\n",
       "      <td>NaN</td>\n",
       "    </tr>\n",
       "    <tr>\n",
       "      <th>3</th>\n",
       "      <td>Africa Western and Central</td>\n",
       "      <td>AFW</td>\n",
       "      <td>High-technology exports (current US$)</td>\n",
       "      <td>TX.VAL.TECH.CD</td>\n",
       "      <td>2007-01-01</td>\n",
       "      <td>NaN</td>\n",
       "    </tr>\n",
       "    <tr>\n",
       "      <th>4</th>\n",
       "      <td>Angola</td>\n",
       "      <td>AGO</td>\n",
       "      <td>High-technology exports (current US$)</td>\n",
       "      <td>TX.VAL.TECH.CD</td>\n",
       "      <td>2007-01-01</td>\n",
       "      <td>NaN</td>\n",
       "    </tr>\n",
       "  </tbody>\n",
       "</table>\n",
       "</div>"
      ],
      "text/plain": [
       "                  Country Name Country Code  \\\n",
       "0                        Aruba          ABW   \n",
       "1  Africa Eastern and Southern          AFE   \n",
       "2                  Afghanistan          AFG   \n",
       "3   Africa Western and Central          AFW   \n",
       "4                       Angola          AGO   \n",
       "\n",
       "                          Indicator Name  Indicator Code       Year  Value  \n",
       "0  High-technology exports (current US$)  TX.VAL.TECH.CD 2007-01-01    NaN  \n",
       "1  High-technology exports (current US$)  TX.VAL.TECH.CD 2007-01-01    NaN  \n",
       "2  High-technology exports (current US$)  TX.VAL.TECH.CD 2007-01-01    NaN  \n",
       "3  High-technology exports (current US$)  TX.VAL.TECH.CD 2007-01-01    NaN  \n",
       "4  High-technology exports (current US$)  TX.VAL.TECH.CD 2007-01-01    NaN  "
      ]
     },
     "metadata": {},
     "output_type": "display_data"
    }
   ],
   "source": [
    "# Reshape data using pd.melt() to get 'Year' and 'Value' columns\n",
    "data_long = pd.melt(data_cleaned, \n",
    "                    id_vars=['Country Name', 'Country Code', 'Indicator Name', 'Indicator Code'], \n",
    "                    var_name='Year', \n",
    "                    value_name='Value')\n",
    "\n",
    "# Convert 'Year' column to datetime format\n",
    "data_long['Year'] = pd.to_datetime(data_long['Year'], format='%Y')\n",
    "\n",
    "# Display the reshaped data\n",
    "display(data_long.head())"
   ]
  },
  {
   "cell_type": "markdown",
   "metadata": {},
   "source": [
    "#### Handling NULL/Missing Values "
   ]
  },
  {
   "cell_type": "code",
   "execution_count": 24,
   "metadata": {},
   "outputs": [
    {
     "data": {
      "text/plain": [
       "<Figure size 1200x600 with 0 Axes>"
      ]
     },
     "metadata": {},
     "output_type": "display_data"
    },
    {
     "data": {
      "image/png": "[encoded data removed]",
      "text/plain": [
       "<Figure size 640x480 with 1 Axes>"
      ]
     },
     "metadata": {},
     "output_type": "display_data"
    },
    {
     "name": "stdout",
     "output_type": "stream",
     "text": [
      "After Imputation, missing value counts are:\n",
      " Country Name      0\n",
      "Country Code      0\n",
      "Indicator Name    0\n",
      "Indicator Code    0\n",
      "Year              0\n",
      "Value             0\n",
      "dtype: int64 \n",
      "\n"
     ]
    }
   ],
   "source": [
    "import pandas as pd\n",
    "import matplotlib.pyplot as plt\n",
    "import seaborn as sns\n",
    "\n",
    "# Countries of interest\n",
    "countries_of_interest = ['United States', 'United Kingdom', 'India', 'China']\n",
    "\n",
    "# Filter the DataFrame for the specified countries and years\n",
    "filtered_df = data_long[(data_long['Country Name'].isin(countries_of_interest)) & \n",
    "                  (data_long['Year'].between('2007-01-01', '2022-01-01'))]\n",
    "\n",
    "# Format Year to show only the year and convert to int using .assign()\n",
    "filtered_df = filtered_df.assign(Year=pd.to_datetime(filtered_df['Year']).dt.year)\n",
    "\n",
    "# Count missing values for each country and year\n",
    "missing_counts = filtered_df.groupby(['Country Name', 'Year'])['Value'].apply(lambda x: x.isnull().sum()).reset_index()\n",
    "\n",
    "# Reshape the DataFrame for visualization\n",
    "missing_counts_pivot = missing_counts.pivot(index='Year', columns='Country Name', values='Value').fillna(0)\n",
    "\n",
    "# Create a visualization\n",
    "plt.figure(figsize=(12, 6))\n",
    "missing_counts_pivot.plot(kind='bar', stacked=True)\n",
    "plt.title('Missing Values in High-technology Exports (2007-2022)')\n",
    "plt.ylabel('Number of Missing Values')\n",
    "plt.xlabel('Year')\n",
    "plt.xticks(rotation=90)  # Rotate x-axis labels vertically\n",
    "plt.legend(title='Country')\n",
    "plt.tight_layout()\n",
    "plt.show()\n",
    "\n",
    "# Imputing missing value using interpolation\n",
    "filtered_df['Value'] = filtered_df['Value'].interpolate(method='linear')\n",
    "\n",
    "# Looking at missing values count again\n",
    "print(\"After Imputation, missing value counts are:\\n\",filtered_df.isna().sum(), \"\\n\")\n"
   ]
  },
  {
   "cell_type": "code",
   "execution_count": 25,
   "metadata": {},
   "outputs": [],
   "source": [
    "# Filter for the United States\n",
    "us_data = filtered_df[filtered_df['Country Name'] == 'United States'][['Year', 'Value']]\n",
    "us_data.set_index('Year', inplace=True)\n",
    "us_data['Value'] = us_data['Value'].astype(float)  # Ensure Value is float"
   ]
  },
  {
   "cell_type": "code",
   "execution_count": 27,
   "metadata": {},
   "outputs": [
    {
     "name": "stdout",
     "output_type": "stream",
     "text": [
      "ADF Statistic: -1.3555477966670106\n",
      "p-value: 0.6033919599353755\n",
      "ADF Statistic: -1.2223521730773033\n",
      "p-value: 0.6639072282941634\n"
     ]
    }
   ],
   "source": [
    "# Before applying ARIMA/SARIMA, it's crucial to check if the time series is stationary. \n",
    "# We can use the Augmented Dickey-Fuller (ADF) test for this.\n",
    "from statsmodels.tsa.stattools import adfuller\n",
    "\n",
    "# ADF Test\n",
    "result = adfuller(us_data['Value'].dropna())\n",
    "print('ADF Statistic:', result[0])\n",
    "print('p-value:', result[1])\n",
    "\n",
    "\n",
    "# If the series is not stationary (p-value > 0.05), we might need to difference the \n",
    "# data to achieve stationarity.\n",
    "us_data['Value_diff'] = us_data['Value'].diff().dropna()\n",
    "\n",
    "# ADF Test on Differenced Data\n",
    "result_diff = adfuller(us_data['Value_diff'].dropna())\n",
    "print('ADF Statistic:', result_diff[0])\n",
    "print('p-value:', result_diff[1])\n",
    "\n"
   ]
  },
  {
   "cell_type": "markdown",
   "metadata": {},
   "source": [
    "#### Model Selection\n",
    "Using ACF and PACF plots, we can determine the appropriate parameters for ARIMA/SARIMA."
   ]
  },
  {
   "cell_type": "code",
   "execution_count": 31,
   "metadata": {},
   "outputs": [
    {
     "data": {
      "image/png": "[encoded data removed]",
      "text/plain": [
       "<Figure size 1200x600 with 2 Axes>"
      ]
     },
     "metadata": {},
     "output_type": "display_data"
    }
   ],
   "source": [
    "from statsmodels.graphics.tsaplots import plot_acf, plot_pacf\n",
    "import matplotlib.pyplot as plt\n",
    "\n",
    "# Adjusted ACF and PACF plots with lags <= 10 (or < 16 as per available data points)\n",
    "plt.figure(figsize=(12, 6))\n",
    "\n",
    "# ACF Plot\n",
    "plt.subplot(1, 2, 1)\n",
    "plot_acf(us_data['Value'].dropna(), lags=8, ax=plt.gca())  # Set lags to 8\n",
    "plt.title('ACF Plot')\n",
    "\n",
    "# PACF Plot\n",
    "plt.subplot(1, 2, 2)\n",
    "plot_pacf(us_data['Value'].dropna(), lags=8, ax=plt.gca())\n",
    "plt.title('PACF Plot')\n",
    "\n",
    "plt.show()"
   ]
  },
  {
   "cell_type": "code",
   "execution_count": 29,
   "metadata": {},
   "outputs": [
    {
     "name": "stdout",
     "output_type": "stream",
     "text": [
      "(16,)\n"
     ]
    }
   ],
   "source": [
    "print(us_data['Value'].dropna().shape)\n"
   ]
  },
  {
   "cell_type": "code",
   "execution_count": null,
   "metadata": {},
   "outputs": [],
   "source": []
  }
 ],
 "metadata": {
  "kernelspec": {
   "display_name": "Python 3",
   "language": "python",
   "name": "python3"
  },
  "language_info": {
   "codemirror_mode": {
    "name": "ipython",
    "version": 3
   },
   "file_extension": ".py",
   "mimetype": "text/x-python",
   "name": "python",
   "nbconvert_exporter": "python",
   "pygments_lexer": "ipython3",
   "version": "3.12.3"
  }
 },
 "nbformat": 4,
 "nbformat_minor": 2
}
